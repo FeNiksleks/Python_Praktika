{
  "cells": [
    {
      "cell_type": "code",
      "execution_count": null,
      "metadata": {
        "colab": {
          "base_uri": "https://localhost:8080/",
          "height": 731
        },
        "id": "inSG15TPBfzs",
        "outputId": "f8dcadc1-9f01-4718-9394-4abf6cecb7e8"
      },
      "outputs": [],
      "source": [
        "import random\n",
        "import pandas as pd\n",
        "lst = ['robot'] * 10\n",
        "lst += ['human'] * 10\n",
        "random.shuffle(lst)\n",
        "print(lst)\n",
        "print()\n",
        "data = pd.DataFrame({'whoAmI':lst})\n",
        "data.loc[data['whoAmI'] == 'robot', 'robot_group'] = '1'\n",
        "data.loc[data['whoAmI'] != 'robot', 'robot_group'] = '0'\n",
        "data.loc[data['whoAmI'] == 'human', 'human_group'] = '1'\n",
        "data.loc[data['whoAmI'] != 'human', 'human_group'] = '0'\n",
        "\n",
        "data.head(n=20)\n"
      ]
    }
  ],
  "metadata": {
    "colab": {
      "provenance": []
    },
    "kernelspec": {
      "display_name": "Python 3",
      "name": "python3"
    },
    "language_info": {
      "codemirror_mode": {
        "name": "ipython",
        "version": 3
      },
      "file_extension": ".py",
      "mimetype": "text/x-python",
      "name": "python",
      "nbconvert_exporter": "python",
      "pygments_lexer": "ipython3",
      "version": "3.11.4"
    }
  },
  "nbformat": 4,
  "nbformat_minor": 0
}
